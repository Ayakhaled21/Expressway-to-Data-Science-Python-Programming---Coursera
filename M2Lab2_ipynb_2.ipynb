{
  "nbformat": 4,
  "nbformat_minor": 0,
  "metadata": {
    "colab": {
      "provenance": [],
      "toc_visible": true,
      "collapsed_sections": []
    },
    "kernelspec": {
      "name": "python3",
      "display_name": "Python 3"
    },
    "language_info": {
      "name": "python"
    }
  },
  "cells": [
    {
      "cell_type": "markdown",
      "metadata": {
        "id": "cnAUJprJdh9_"
      },
      "source": [
        "# Welcome to our Lab Practice!"
      ]
    },
    {
      "cell_type": "markdown",
      "metadata": {
        "id": "vVYcayGedmms"
      },
      "source": [
        "This lab is all about defining functions with multiple parameters. Are you ready? Let's go!"
      ]
    },
    {
      "cell_type": "markdown",
      "metadata": {
        "id": "JP8eGBVyeSQx"
      },
      "source": [
        "You will find some small tasks in sections below. After defining functions, call them to test."
      ]
    },
    {
      "cell_type": "markdown",
      "source": [
        "###Task: define a function that print \"*message*\" *n* times, where *message* and *n* are parameters"
      ],
      "metadata": {
        "id": "MBpHkOhIfmrY"
      }
    },
    {
      "cell_type": "code",
      "source": [
        "# your code will be here\n",
        "def print_msg(n , message):\n",
        "  for i in range(n):\n",
        "    print(message)\n",
        "print_msg(6,\"Hello , World!\")"
      ],
      "metadata": {
        "id": "Orw6NIIef0Wp",
        "colab": {
          "base_uri": "https://localhost:8080/"
        },
        "outputId": "32b6fc12-2098-468a-89b9-3461a18fafe6"
      },
      "execution_count": 1,
      "outputs": [
        {
          "output_type": "stream",
          "name": "stdout",
          "text": [
            "Hello , World!\n",
            "Hello , World!\n",
            "Hello , World!\n",
            "Hello , World!\n",
            "Hello , World!\n",
            "Hello , World!\n"
          ]
        }
      ]
    },
    {
      "cell_type": "markdown",
      "source": [
        "###Task: define a function that print integers *n*  to *m* (hint: you can use a for loop), where *n* and *m* are parameters, and *n < m*.\n",
        "\n",
        "Challenge: Can you write a program that doesn't require *n < m*? "
      ],
      "metadata": {
        "id": "DVjL6nU0f2Z_"
      }
    },
    {
      "cell_type": "code",
      "source": [
        "# your code will be here\n",
        "def print_int(n,m):\n",
        "  for i in range(n,m + 1 ,1):\n",
        "    print(i)\n",
        "print_int(4,10)"
      ],
      "metadata": {
        "id": "2iYaPzVSghML",
        "colab": {
          "base_uri": "https://localhost:8080/"
        },
        "outputId": "97969064-a4ad-44a0-9142-252d45d86f30"
      },
      "execution_count": 2,
      "outputs": [
        {
          "output_type": "stream",
          "name": "stdout",
          "text": [
            "4\n",
            "5\n",
            "6\n",
            "7\n",
            "8\n",
            "9\n",
            "10\n"
          ]
        }
      ]
    },
    {
      "cell_type": "markdown",
      "source": [
        "###Task: define a function that print the sum of *n*  to *m*, where *n, m* are parameters, and *n* < *m*."
      ],
      "metadata": {
        "id": "YhJrQh4eghzb"
      }
    },
    {
      "cell_type": "code",
      "source": [
        "# your code will be here\n",
        "def sum_num(n,m):\n",
        "  sum = 0 \n",
        "  for i in range(n,m + 1 ,1):\n",
        "    sum += i \n",
        "  print(sum)\n",
        "sum_num(2,4)"
      ],
      "metadata": {
        "id": "n2Mm6RVYgwOq",
        "colab": {
          "base_uri": "https://localhost:8080/"
        },
        "outputId": "cde5ec94-142e-4efc-8013-3cd3dfa1d2ef"
      },
      "execution_count": 3,
      "outputs": [
        {
          "output_type": "stream",
          "name": "stdout",
          "text": [
            "9\n"
          ]
        }
      ]
    },
    {
      "cell_type": "markdown",
      "source": [
        "###Task: define a function that print the AND logical operation of *condition1* and *condition 2*, where *condition1, condition2* are parameters."
      ],
      "metadata": {
        "id": "LzU4n3lDgzMR"
      }
    },
    {
      "cell_type": "code",
      "source": [
        "# your code will be here\n",
        "def logic(con1,con2):\n",
        "  print(con1 and con2)\n",
        "logic(True , True)"
      ],
      "metadata": {
        "id": "aoARtrf-hEJR",
        "colab": {
          "base_uri": "https://localhost:8080/"
        },
        "outputId": "d4c17ded-febc-487c-c0a6-bdc241d888eb"
      },
      "execution_count": 5,
      "outputs": [
        {
          "output_type": "stream",
          "name": "stdout",
          "text": [
            "True\n"
          ]
        }
      ]
    },
    {
      "cell_type": "markdown",
      "source": [
        "###Task: define a function that print if *n* is dividible by *m*, where *n, m* are parameters."
      ],
      "metadata": {
        "id": "WLCfkBtOhEfa"
      }
    },
    {
      "cell_type": "code",
      "source": [
        "# your code will be here\n",
        "def pri(n,m):\n",
        "  if n % m == 0:\n",
        "    print(True)\n",
        "  else:\n",
        "    print(False)\n",
        "pri(9,3)"
      ],
      "metadata": {
        "id": "h_aYoPmWhPRL",
        "colab": {
          "base_uri": "https://localhost:8080/"
        },
        "outputId": "13e8d1f3-51c7-45f9-afa7-caf6e15671b7"
      },
      "execution_count": 6,
      "outputs": [
        {
          "output_type": "stream",
          "name": "stdout",
          "text": [
            "True\n"
          ]
        }
      ]
    },
    {
      "cell_type": "markdown",
      "source": [
        "###Task: define a function that print the minimal number from *x, y, z*, where *x, y, z* are parameters"
      ],
      "metadata": {
        "id": "RNil8H04hUDq"
      }
    },
    {
      "cell_type": "code",
      "source": [
        "# your code will be here\n",
        "def min(x,y,z):\n",
        "  min = x \n",
        "  if y < min :\n",
        "    min = y \n",
        "  elif z < min : \n",
        "    min = z \n",
        "  else:\n",
        "    min = x \n",
        "  print(min)\n",
        "min(2,-4,6)"
      ],
      "metadata": {
        "id": "HaZfxaajhhn8",
        "colab": {
          "base_uri": "https://localhost:8080/"
        },
        "outputId": "5a15dfe9-69df-4902-83d4-8c4715d346f7"
      },
      "execution_count": 8,
      "outputs": [
        {
          "output_type": "stream",
          "name": "stdout",
          "text": [
            "-4\n"
          ]
        }
      ]
    },
    {
      "cell_type": "code",
      "source": [],
      "metadata": {
        "id": "RrQkAkQXs_-1"
      },
      "execution_count": null,
      "outputs": []
    }
  ]
}